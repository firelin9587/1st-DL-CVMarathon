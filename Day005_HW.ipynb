{
 "cells": [
  {
   "cell_type": "markdown",
   "metadata": {},
   "source": [
    "# API 資料串接 - 以 Dcard API 實作範例\n",
    "\n",
    "* 了解 Dcard API 使用方式與回傳內容\n",
    "* 撰寫程式存取 API 且解析 JSON 格式資料\n"
   ]
  },
  {
   "cell_type": "markdown",
   "metadata": {},
   "source": [
    "## 作業目標\n",
    "\n",
    "* 請利用 API: https://www.dcard.tw/_api/forums/pet/posts?popular=true 回答下列問題：\n",
    "\n",
    "1. 這個 API 一次會回傳幾筆資料？每一筆資料包含哪些欄位？\n",
    "2. 取出每一筆資料的「標題」、「貼文時間」、「留言人數」、「按讚人數」\n",
    "3. 計算熱門/非熱門文章的「平均留言人數」與「平均按讚人數」"
   ]
  },
  {
   "cell_type": "code",
   "execution_count": 9,
   "metadata": {},
   "outputs": [
    {
     "name": "stdout",
     "output_type": "stream",
     "text": [
      "30\n"
     ]
    }
   ],
   "source": [
    "# 1. 這個 API 一次會回傳幾筆資料？每一筆資料包含哪些欄位？\n",
    "\n",
    "import requests\n",
    "r = requests.get('https://www.dcard.tw/_api/forums/pet/posts?popular=true')\n",
    "response = r.text\n",
    "\n",
    "import json\n",
    "data = json.loads(response)\n",
    "\n",
    "print(len(data))"
   ]
  },
  {
   "cell_type": "code",
   "execution_count": 8,
   "metadata": {},
   "outputs": [
    {
     "name": "stdout",
     "output_type": "stream",
     "text": [
      "薩摩耶一秒變博美\n",
      "2020-03-05T23:19:28.657Z\n",
      "14\n",
      "771\n",
      "這位同學請張貼更多你家狗勾的照片\n",
      "2020-03-06T00:36:42.340Z\n",
      "12\n",
      "78\n",
      "在南京東路遇到小老虎\n",
      "2020-03-06T06:01:28.886Z\n",
      "2\n",
      "65\n",
      "太近了啦\n",
      "2020-03-06T08:12:33.757Z\n",
      "2\n",
      "48\n",
      "藍螺紋美短\n",
      "2020-03-06T07:10:32.447Z\n",
      "4\n",
      "38\n",
      "犬種介紹特輯5 Taiwan NO.1 台灣犬~\n",
      "2020-03-06T10:55:34.769Z\n",
      "16\n",
      "35\n",
      "養了獅子王裡的辛巴\n",
      "2020-03-06T02:39:26.619Z\n",
      "4\n",
      "33\n",
      "你想不到吧～～😏 #馬爾濟斯\n",
      "2020-03-06T10:05:55.775Z\n",
      "1\n",
      "23\n",
      "突然鑽到中間\n",
      "2020-03-06T15:18:54.635Z\n",
      "2\n",
      "22\n",
      "跟主人騎車兜風最開心惹\n",
      "2020-03-06T08:20:38.836Z\n",
      "3\n",
      "16\n",
      "聽說只要拿出胸背帶\n",
      "2020-03-07T05:24:03.483Z\n",
      "2\n",
      "15\n",
      "網美初體驗\n",
      "2020-03-07T03:32:41.062Z\n",
      "4\n",
      "15\n",
      "有人知道這隻貓咪嗎～\n",
      "2020-03-07T01:49:40.767Z\n",
      "2\n",
      "12\n",
      "吉娃娃也是可以很可愛的\n",
      "2020-03-06T15:10:58.503Z\n",
      "3\n",
      "12\n",
      "你們鳥或其他動物主子，掉進最奇怪的東西是啥？\n",
      "2020-03-06T11:34:47.258Z\n",
      "5\n",
      "12\n",
      "爬樹技能get!\n",
      "2020-03-06T06:23:23.862Z\n",
      "0\n",
      "11\n",
      "太平洋鸚鵡初體驗🥰（文長）\n",
      "2020-03-06T18:08:39.766Z\n",
      "0\n",
      "9\n",
      "我家兔子啃破了牛奶……\n",
      "2020-03-07T00:09:50.348Z\n",
      "1\n",
      "8\n",
      "寵物協尋\n",
      "2020-03-06T14:08:32.353Z\n",
      "0\n",
      "8\n",
      "撒旦要來囉 魔鬼要來囉\n",
      "2020-03-06T11:21:59.628Z\n",
      "1\n",
      "8\n",
      "白同學\n",
      "2020-03-06T01:29:28.970Z\n",
      "0\n",
      "8\n",
      "虎斑貓走失協尋😭\n",
      "2020-03-06T15:46:16.529Z\n",
      "0\n",
      "7\n",
      "可以分享更多小狗狗的照片嗎\n",
      "2020-03-06T12:55:43.906Z\n",
      "0\n",
      "7\n",
      "#避雷 培菓寵物\n",
      "2020-03-06T09:20:10.384Z\n",
      "6\n",
      "6\n",
      "原來你一直這樣看待我\n",
      "2020-03-07T03:22:24.383Z\n",
      "0\n",
      "5\n",
      "請問這是貓蝨嗎？\n",
      "2020-03-06T17:04:11.381Z\n",
      "11\n",
      "5\n",
      "我的兩隻小孩🥺🐱\n",
      "2020-03-06T12:15:44.622Z\n",
      "1\n",
      "5\n",
      "#問 貓咪脖子上的傷口\n",
      "2020-03-05T22:41:49.620Z\n",
      "2\n",
      "5\n",
      "可愛石虎\n",
      "2020-03-07T02:37:00.045Z\n",
      "0\n",
      "4\n",
      "螯蝦這樣是不是要脫殼了？？\n",
      "2020-03-06T17:51:45.998Z\n",
      "1\n",
      "4\n"
     ]
    }
   ],
   "source": [
    "# 2. 取出每一筆資料的「標題」、「貼文時間」、「留言人數」、「按讚人數」\n",
    "\n",
    "for d in data:\n",
    "    print(d['title'])\n",
    "    print(d['createdAt'])\n",
    "    print(d['commentCount'])\n",
    "    print(d['likeCount'])"
   ]
  },
  {
   "cell_type": "code",
   "execution_count": 10,
   "metadata": {},
   "outputs": [
    {
     "name": "stdout",
     "output_type": "stream",
     "text": [
      "3.3 43.166666666666664\n",
      "2.433333333333333 1.2666666666666666\n"
     ]
    }
   ],
   "source": [
    "# 3. 計算熱門/非熱門文章的「平均留言人數」與「平均按讚人數」\n",
    "\n",
    "commentCount = 0\n",
    "likeCount = 0\n",
    "for d in data:\n",
    "    commentCount += d['commentCount']\n",
    "    likeCount += d['likeCount']\n",
    "\n",
    "print(commentCount/len(data), likeCount/len(data))\n",
    "\n",
    "r = requests.get('https://www.dcard.tw/_api/forums/job/posts?popular=false')\n",
    "response = r.text\n",
    "data = json.loads(response)\n",
    "commentCount = 0\n",
    "likeCount = 0\n",
    "for d in data:\n",
    "    commentCount += d['commentCount']\n",
    "    likeCount += d['likeCount']\n",
    "\n",
    "print(commentCount/len(data), likeCount/len(data))"
   ]
  },
  {
   "cell_type": "code",
   "execution_count": null,
   "metadata": {},
   "outputs": [],
   "source": []
  },
  {
   "cell_type": "code",
   "execution_count": null,
   "metadata": {},
   "outputs": [],
   "source": []
  }
 ],
 "metadata": {
  "kernelspec": {
   "display_name": "Python 3",
   "language": "python",
   "name": "python3"
  },
  "language_info": {
   "codemirror_mode": {
    "name": "ipython",
    "version": 3
   },
   "file_extension": ".py",
   "mimetype": "text/x-python",
   "name": "python",
   "nbconvert_exporter": "python",
   "pygments_lexer": "ipython3",
   "version": "3.7.3"
  }
 },
 "nbformat": 4,
 "nbformat_minor": 2
}
